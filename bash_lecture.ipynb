{
 "cells": [
  {
   "cell_type": "markdown",
   "metadata": {},
   "source": [
    "# План:\n",
    "\n",
    "1) Работа с файлами и директориями\n",
    "\n",
    "2) Работа с содержимым и pipes\n",
    "\n",
    "3) Bash\n",
    "\n",
    "4) Прочее"
   ]
  },
  {
   "cell_type": "markdown",
   "metadata": {},
   "source": [
    "# Работа с файлами и директориями\n",
    "\n",
    "- `.` - текущая директория\n",
    "- `..` - директория на уровень выше\n",
    "- `~` - домашняя директория (обычно это `/home/username`)\n",
    "- `/` - корневая директория\n",
    "\n",
    "Узнать текущую директорию можно командой `pwd`"
   ]
  },
  {
   "cell_type": "code",
   "execution_count": null,
   "metadata": {
    "collapsed": true
   },
   "outputs": [],
   "source": [
    "!pwd"
   ]
  },
  {
   "cell_type": "markdown",
   "metadata": {},
   "source": [
    "Узнать текущего пользователя - `whoami`"
   ]
  },
  {
   "cell_type": "code",
   "execution_count": null,
   "metadata": {
    "collapsed": true
   },
   "outputs": [],
   "source": [
    "!whoami"
   ]
  },
  {
   "cell_type": "markdown",
   "metadata": {},
   "source": [
    "Переход в другую директорию осуществляется командой `cd`"
   ]
  },
  {
   "cell_type": "code",
   "execution_count": null,
   "metadata": {
    "collapsed": true
   },
   "outputs": [],
   "source": [
    "!mkdir example_dir\n",
    "!cd example_dir\n",
    "!pwd"
   ]
  },
  {
   "cell_type": "markdown",
   "metadata": {},
   "source": [
    "Команда `mkdir` создаёт директории"
   ]
  },
  {
   "cell_type": "markdown",
   "metadata": {},
   "source": [
    "Посмотреть содержимое директории можно при помощи команды `ls`. Если не указать директорию, то по умолчанию будет использована текущая директория. Пример: `ls /my/awesome/dir`\n",
    "\n",
    "\n",
    "Полезные опции:\n",
    "- `-a` - отобразить все файлы и директории (по умолчанию не оторбажаются названия начинающиеся с точки)\n",
    "- `-l` - отобразить списком\n",
    "- `-h` - for humans\n",
    "- `-t` - отсортировать по времени изменения\n",
    "- `-s` - отсортировать по размеру файлов (размер директорий не учитывается, для этого пользуйтесь командой `du`)\n",
    "\n",
    "Посмотреть список доступных опций можно при помощи команды `man`. Запомните команду `man`. "
   ]
  },
  {
   "cell_type": "code",
   "execution_count": null,
   "metadata": {
    "collapsed": true,
    "scrolled": true
   },
   "outputs": [],
   "source": [
    "!man ls"
   ]
  },
  {
   "cell_type": "code",
   "execution_count": null,
   "metadata": {
    "collapsed": true
   },
   "outputs": [],
   "source": [
    "!du -s -h /Users/v.fedorenko/Downloads/"
   ]
  },
  {
   "cell_type": "markdown",
   "metadata": {},
   "source": [
    "Поиск по man можно осуществить с помощью команды `apropos`"
   ]
  },
  {
   "cell_type": "code",
   "execution_count": null,
   "metadata": {
    "collapsed": true
   },
   "outputs": [],
   "source": [
    "!apropos \"copy file\""
   ]
  },
  {
   "cell_type": "markdown",
   "metadata": {},
   "source": [
    "Другие полезные команды для работы с файлами и директориями. Для работы с директориями нужно указать флаг `-r`\n",
    "\n",
    "- `cp source_file target_file` \n",
    "- `mv old_path new path` \n",
    "- `rm file_to_remove`\n",
    "\n",
    "Если кто-то советует вам сделать `rm -rf /` - скорее всего, вас разыгрывают</h3>\n",
    "\n",
    "<img src=\"https://ih0.redbubble.net/image.238376101.3327/flat,800x800,075,f.jpg\">"
   ]
  },
  {
   "cell_type": "code",
   "execution_count": null,
   "metadata": {
    "collapsed": true
   },
   "outputs": [],
   "source": [
    "!mkdir remove_me_dir\n",
    "!rm remove_me_dir"
   ]
  },
  {
   "cell_type": "code",
   "execution_count": null,
   "metadata": {
    "collapsed": true
   },
   "outputs": [],
   "source": [
    "!rm -r remove_me_dir"
   ]
  },
  {
   "cell_type": "markdown",
   "metadata": {},
   "source": [
    "Сообщение `rm: remove_me_dir: is a directory` печатается в `stderr`, но об этом чуть позже.\n",
    "\n",
    "Создать пустой файл можно командой `touch`. Если файл уже существует - то файл не будет модифицироваться"
   ]
  },
  {
   "cell_type": "code",
   "execution_count": null,
   "metadata": {
    "collapsed": true
   },
   "outputs": [],
   "source": [
    "!touch empty_file"
   ]
  },
  {
   "cell_type": "markdown",
   "metadata": {},
   "source": [
    "`echo` - печать аргумента в `stdout`. "
   ]
  },
  {
   "cell_type": "code",
   "execution_count": null,
   "metadata": {
    "collapsed": true
   },
   "outputs": [],
   "source": [
    "!echo \"Hello, world\""
   ]
  },
  {
   "cell_type": "markdown",
   "metadata": {},
   "source": [
    "Узнать какому исполняему файлу соответствует команда"
   ]
  },
  {
   "cell_type": "code",
   "execution_count": null,
   "metadata": {
    "collapsed": true
   },
   "outputs": [],
   "source": [
    "!which python"
   ]
  },
  {
   "cell_type": "markdown",
   "metadata": {},
   "source": [
    "### Globing\n",
    "\n",
    "Позволяет создавать маски для имён файлов и директорий\n",
    "\n",
    "1) `*` - любое количество произвольных символов. Пример: `head *.txt`\n",
    "\n",
    "2) `?` - один призвольный символ. Пример: `ls 0?.txt`\n",
    "\n",
    "3) `{aa,ab,cd,ef}` - один символ из указанной группы. Пример: `rm split_{a,b,c,d}.txt`\n",
    "\n",
    "4) `[0-9]` - один символ из указанного диапазона. Пример: `gzip logs-2017-10-2[0-5].txt`"
   ]
  },
  {
   "cell_type": "markdown",
   "metadata": {},
   "source": [
    "Посмотреть все переменные окружения можно следующей командой"
   ]
  },
  {
   "cell_type": "code",
   "execution_count": null,
   "metadata": {
    "collapsed": true
   },
   "outputs": [],
   "source": [
    "!env"
   ]
  },
  {
   "cell_type": "markdown",
   "metadata": {},
   "source": [
    "Установить переменную окружения можно командой `export`. \n",
    "\n",
    "Например: `export JAVA_HOME=/usr/java/bin; echo $JAVA_HOME`\n",
    "\n",
    "Так же, перемннные окружения можно задать в файле `~/.bash_profile`. После того, как вы изменили  `~/.bash_profile` необходимо его активировать `source ~/.bash_profile` или закрыть и заново открыть терминал"
   ]
  },
  {
   "cell_type": "markdown",
   "metadata": {},
   "source": [
    "# Работа с содержимым и pipes"
   ]
  },
  {
   "cell_type": "markdown",
   "metadata": {},
   "source": [
    "#### head & tail\n",
    "Вывести начало или конец файла или потока - `head` и `tail` соответственно. Полезная опция - `-n`, задаёт сколько строк нужно вывести. По умолчанию 10."
   ]
  },
  {
   "cell_type": "code",
   "execution_count": null,
   "metadata": {
    "collapsed": true
   },
   "outputs": [],
   "source": [
    "!head -3 /my/awesome/file.txt"
   ]
  },
  {
   "cell_type": "code",
   "execution_count": null,
   "metadata": {
    "collapsed": true
   },
   "outputs": [],
   "source": [
    "!tail -3 /my/awesome/file.txt"
   ]
  },
  {
   "cell_type": "code",
   "execution_count": null,
   "metadata": {
    "collapsed": true
   },
   "outputs": [],
   "source": [
    "!tail -F ./watch_me.txt"
   ]
  },
  {
   "cell_type": "markdown",
   "metadata": {},
   "source": [
    "#### grep\n",
    "\n",
    "Команда `grep` служит для фильтрации входного потока.  `grep ERROR very_important_log.txt`. Полезные опции:\n",
    "\n",
    "- `-i` - игнорировать регистр\n",
    "- `-v` - инвертированная фильтрация\n",
    "- `-E` - расширенные регулярные выражения\n",
    "- `-A 2` - выводить по две строчки перед совпавшим шаблоном\n",
    "- `-B 4` - выводить по четыре строчки после совпавшего шаблона\n",
    "- `-C 3` - контекст 3 строчки до 3 после\n",
    "- `--color` - помочь глазам и подсветить совпавший шаблон\n",
    "- `-m 5` - вывести первые 5 совпадений\n",
    "- `-l` - вывести имена совпавших файлов"
   ]
  },
  {
   "cell_type": "markdown",
   "metadata": {},
   "source": [
    "#### awk\n",
    "\n",
    "AWK является отдельным языком программирования, про который можно сделать отдельную лекцию. Пара примеров:\n",
    "\n",
    "`awk -F '\\t' '{print $1}'` - разбить каждую строчку потока по разделителю `-F` и напечатать первое поле\n",
    "\n",
    "`awk -F '\\t' '($3==10)' {print $0}` - разбить каждую строчку потока по разделителю `-F` и напечатать исходные строки, где 3-е поле равно десяти \n",
    "\n",
    "`cat done.* | awk -F '\\t' '{c[$2] += 1} END {d=0; for(key in c){print key, c[key]; d += c[key]}; print \"TOTAL: \",d}'` \n",
    "- Заводим счётчик под каждое уникальное значение второе поле, печатаем значение и счётчик и сумму всех счётчиков\n",
    "\n",
    "https://habrahabr.ru/company/ruvds/blog/327754/"
   ]
  },
  {
   "cell_type": "markdown",
   "metadata": {},
   "source": [
    "#### awk\n",
    "\n",
    "AWK является отдельным языком программирования, про который можно сделать отдельную лекцию. Пара примеров:\n",
    "\n",
    "`awk -F '\\t' '{print $1}'` - разбить каждую строчку потока по разделителю `-F` и напечатать первое поле\n",
    "\n",
    "`awk -F '\\t' '($3==10)' {print $0}` - разбить каждую строчку потока по разделителю `-F` и напечатать исходные строки, где 3-е поле равно десяти \n",
    "\n",
    "`cat done.* | awk -F '\\t' '{c[$2] += 1} END {d=0; for(key in c){print key, c[key]; d += c[key]}; print \"TOTAL: \",d}'` \n",
    "- Заводим счётчик под каждое уникальное значение второе поле, печатаем значение и счётчик и сумму всех счётчиков\n",
    "\n",
    "https://habrahabr.ru/company/ruvds/blog/327754/"
   ]
  },
  {
   "cell_type": "markdown",
   "metadata": {},
   "source": [
    "#### split\n",
    "\n",
    "Разбивает исходный файл на меньшие файлы с заданными параметрами. Может пригодится при параллельной обработке. Пример:\n",
    "\n",
    "`split -a 4 -l 100 -d my_big_file.txt split_part_` - разобьёт файл my_big_file.txt на файлы по 100 строк, будет использовать 4 символа под суффикс, файлы будут называться split_part_0000, split_part_0001. Опция -d нужна для того, чтобы суффиксы формировались из чисел, по умолчанию буквы латинского алфавита\n",
    "\n",
    "#### tr\n",
    "\n",
    "Утилита нужна для преобразования текста во входном потоке\n",
    "\n",
    "`tr \"[:lower:]\" \"[:upper:]\"` - заменяет все буквы нижнего регистра на соответствующие заглавные буквы \n",
    "\n",
    "`tr \" \" \"\\n\"` - заменяет пробелы на переводы строк\n",
    "\n",
    "#### wc \n",
    "\n",
    "Утилита для подсчтёта символов, слов, строк. Пример: `wc -l my_big_file.txt`\n",
    "\n",
    "#### cut \n",
    "\n",
    "Утилита для вырезания полей или символов из входного потока:\n",
    "\n",
    "`cut -d : -f 1,7 /etc/passwd` \n",
    "\n",
    "`who | cut -c 1-16,26-38`"
   ]
  },
  {
   "cell_type": "markdown",
   "metadata": {},
   "source": [
    "#### uniq\n",
    "\n",
    "Возвращает уникальные элементы из входного потока. Но не совсем. uniq заменяет группу подряд идущих уникальных значений на единичное значение. Предположим, у нас есть файл `uniq_test_1.txt` с содержимым `1 1 1 1 2 2 2` и `uniq_test_2.txt` c содержимым `1 1 2 2 1 1`.\n",
    "\n",
    "`cat uniq_test_1.txt | tr \" \" \"\\n\" | uniq | tr \"\\n\" \" \" ` выдаст `1 2`\n",
    "\n",
    "`cat uniq_test_2.txt | tr \" \" \"\\n\" | uniq | tr \"\\n\" \" \" ` выдаст `1 2 1`\n",
    "\n",
    "Полезные опции:\n",
    "\n",
    "`-c` - подсчитывает количество каждого элемента\n",
    "`-u` - выводит только уникальные элементы\n",
    "`-d` - выводит только дубликаты\n",
    "\n",
    "#### sort\n",
    "\n",
    "Сортирует входной поток данных. Полезные опции:\n",
    "\n",
    "`-k1,3` - сортировать по ключу, начинающемуся с 1-ого поля и заканчивающемся на 3 поле\n",
    "\n",
    "`-n` - воспринимать ключи числами. По умолчанию, числа будут сортироваться, как строки в лексикографическом порядке\n",
    "\n",
    "`-r` - сортировка в обратном порядке\n",
    "\n",
    "`-h` - сортировать по-человечески. То есть, понимать, что 3K это больше 783, а 4K меньше 3M\n",
    "\n",
    "`-p` - сортировать в p процессов. Данная опция может отсутствовать"
   ]
  },
  {
   "cell_type": "markdown",
   "metadata": {},
   "source": [
    "## Pipes.\n",
    "\n",
    "Потоки данных можно перенаправлять через специальный символ - \"|\" (pipe). Тогда stdout одной команды станет stdin следующей команды. Пример: \n",
    "\n",
    "`cat my_file.txt | head | grep awesome_pattern | awk '{print $NF}' > result.txt`\n",
    "\n",
    "Существуют три потока данных `0 — STDIN, 1 — STDOUT и 2 — STDERR`.  Оператор `>` перенаправляет только stdout.  Пример:\n",
    "\n",
    "`magic_script.sh > /dev/null 2>&1` - stdout скрипта летит в `/dev/null`, stderr - в стандартный вывод\n",
    "\n",
    "#### Useless `cat`\n",
    "\n",
    "<img src=\"https://squarewheelscycling.com/uploads/monthly_2015_08/useless-cat.jpg.e67ee19e399ff56da91d778b461a3e1e.jpg\">\n",
    "\n",
    "Многие команды принимают аргументами, как файл, так и stdin. Например, \n",
    "\n",
    "`head file.txt`\n",
    "\n",
    "`cat file.txt | head`. \n",
    "\n",
    "Второе называют антипаттерном useless cat."
   ]
  },
  {
   "cell_type": "markdown",
   "metadata": {},
   "source": [
    "# Bash"
   ]
  },
  {
   "cell_type": "markdown",
   "metadata": {},
   "source": [
    "`#!/bin/bash`\n",
    "Первая строка скрипта - это shebang, который сообщает системе, как исполнять этот скрипт: http://en.wikipedia.org/wiki/Shebang_(Unix) \n",
    "\n",
    "\n",
    "Простой пример hello world:\n",
    "\n",
    "`echo Hello world!`\n",
    "\n",
    "Отдельные команды начинаются с новой строки или разделяются точкой с запятой:\n",
    "\n",
    "`echo 'Это первая строка'; echo 'Это вторая строка'`\n",
    "\n",
    "Вот так объявляется переменная:\n",
    "\n",
    "`VARIABLE=\"Просто строка\"`\n",
    "\n",
    "\n",
    "VARIABLE = \"Просто строка\"\n",
    "\n",
    "\n",
    "Использование переменой:\n",
    "\n",
    "`echo $VARIABLE`\n",
    "`echo \"$VARIABLE\"`\n",
    "`echo '$VARIABLE'`\n",
    "\n",
    "Когда вы используете переменную - присваиваете, экспортируете и т.д. - пишите её имя без `$`. А для получения значения переменной используйте `$`. Заметьте, что ' (одинарные кавычки) не раскрывают переменные в них.\n",
    "\n",
    "В bash есть полезные встроенные переменные, например\n",
    "\n",
    "`echo \"Последнее возвращенное значение: $?\"`\n",
    "\n",
    "`echo \"PID скрипта: $$\"`\n",
    "\n",
    "`echo \"Количество аргументов: $#\"`\n",
    "\n",
    "`echo \"Аргументы скрипта: $@\"`\n",
    "\n",
    "`echo \"Аргументы скрипта, распределённые по отдельным переменным: $1 $2...\"`\n",
    "\n",
    "Чтение аргументов из устройста ввода:\n",
    "\n",
    "`echo \"Как Вас зовут?\"`\n",
    "\n",
    "`read NAME # Обратите внимание, что нам не нужно определять новую переменную`\n",
    "\n",
    "`echo Привет, $NAME!`\n",
    "\n",
    "У нас есть обычная структура if: наберите 'man test' для получения подробной информации о форматах условия\n",
    "\n",
    "`if [ $NAME -ne $USER ]`\n",
    "\n",
    "`then`\n",
    "\n",
    "`    echo \"Имя не совпадает с именем пользователя\"`\n",
    "\n",
    "`else`\n",
    "\n",
    "echo \"Имя совпадает с именем пользователя\"`\n",
    "\n",
    "`fi`\n",
    "\n",
    "Примечание: если `$Name` пустой, bash интерпретирует код как:\n",
    "\n",
    "\n",
    "`if [ -ne $USER ]`\n",
    "\n",
    "`# а это ошибочная команда`\n",
    "\n",
    "`# поэтому такие переменные нужно использовать так:`\n",
    "\n",
    "`if [ \"$Name\" -ne $USER ] ...`\n",
    "\n",
    "`# когда $Name пустой, bash видит код как:`\n",
    "\n",
    "`if [ \"\" -ne $USER ] ...`\n",
    "\n",
    "`# что работает правильно`\n",
    "\n",
    "\n",
    "Также есть условное исполнение\n",
    "\n",
    "`echo \"Исполнится всегда\" || echo \"Исполнится, если первая команда завершится ошибкой\"`\n",
    "\n",
    "`echo \"Исполнится всегда\" && echo \"Исполнится, если первая команда выполнится удачно\"`\n",
    "\n",
    "Можно использовать && и || в выражениях if, когда нужно несколько пар скобок:\n",
    "\n",
    "`if [ $NAME == \"Steve\" ] && [ $AGE -eq 15 ]`\n",
    "\n",
    "`then`\n",
    "\n",
    "`    echo \"Исполнится, если $NAME равно Steve И $AGE равно 15.\"`\n",
    "\n",
    "`fi`\n",
    "\n",
    "Ещё пример\n",
    "\n",
    "`if [ $NAME == \"Daniya\" ] || [ $NAME == \"Zach\" ]`\n",
    "\n",
    "`then`\n",
    "\n",
    "`echo \"Исполнится, если $NAME равно Daniya ИЛИ Zach.\"`\n",
    "\n",
    "`fi`\n"
   ]
  },
  {
   "cell_type": "markdown",
   "metadata": {},
   "source": [
    "Цикл for перебирает элементы переданные в аргументе:\n",
    "\n",
    "`# Содержимое $VARIABLE будет напечатано три раза.\n",
    "\n",
    "`for VARIABLE in {1..3}`\n",
    "\n",
    "`do`\n",
    "\n",
    "`    echo \"$VARIABLE\"`\n",
    "\n",
    "`done`\n",
    "\n",
    "Или с использованием \"традиционного\" синтаксиса цикла for:\n",
    "\n",
    "`for ((a=1; a <= 3; a++))`\n",
    "`do`\n",
    "`    echo $a`\n",
    "`done`\n",
    "\n",
    "Цикл for можно использовать для действий с файлами. Запустим команду 'cat' для файлов file1 и file2\n",
    "\n",
    "`for VARIABLE in file1 file2`\n",
    "\n",
    "`do`\n",
    "\n",
    "`    cat \"$VARIABLE\"`\n",
    "\n",
    "`done`\n",
    "\n",
    "... или выводом из команд. Запустим cat для вывода из ls.\n",
    "\n",
    "`for OUTPUT in $(ls)`\n",
    "\n",
    "`do`\n",
    "\n",
    "`    cat \"$OUTPUT\"`\n",
    "\n",
    "`done`\n",
    "\n",
    "Цикл while:\n",
    "\n",
    "`while [ true ]`\n",
    "\n",
    "`do`\n",
    "\n",
    "`    echo \"тело цикла здесь...\"`\n",
    "\n",
    "`    break`\n",
    "\n",
    "`done`"
   ]
  },
  {
   "cell_type": "markdown",
   "metadata": {
    "collapsed": true
   },
   "source": [
    "# Other"
   ]
  },
  {
   "cell_type": "markdown",
   "metadata": {},
   "source": [
    "1) Background Mode - `jupter notebook &`\n",
    "\n",
    "2) Просмотр запущенных процессов - `ps aux`\n",
    "\n",
    "3) vim.\n",
    "\n",
    "4) Отправка запросов `curl \"https://en.wikipedia.org/w/api.php?action=query&titles=python&prop=revisions&rvprop=content&format=json\"`\n",
    "\n",
    "5) ps - просмотр запущенных процессов\n",
    "\n",
    "6) top/htop - мониторинг процессов\n",
    "\n",
    "\n",
    "\n",
    "#### Архивирование\n",
    "\n",
    "`zip archive.zip first_file.txt second_file.tsv`\n",
    "\n",
    "`zip -r archive_with_dir.zip ./cool_dir/`\n",
    "\n",
    "`gzip my_file.txt` - удаляет исходный файл, создаёт архив с суффиксом - `my_file.txt.gz`\n",
    "\n",
    "`gunzip my_file.txt.gz`\n",
    "\n",
    "`gunzip -k -c my_file.txt.gz` - `-k` говорит о том, что исходный файл удалять не надо, `-c` - выводит результат в `stdout`. Данный набор опций нужен настолько часто, что ему соответствует утилита `zcat`\n",
    "\n",
    "Аналогичным образом работает `bzip2` и `bunzip2`. Сильнее сжимает, но требует больше процессорного времени"
   ]
  },
  {
   "cell_type": "markdown",
   "metadata": {},
   "source": [
    "#### screen\n",
    "\n",
    "Утилита создаёт \"экран\", который продолжает работать, когда терминал закрыт.\n",
    "\n",
    "`screen -S screenname` - создать экран\n",
    "\n",
    "`screen -ls` - список запущенных скринов\n",
    "\n",
    "`screen -X -S screenname quit` - выйти из скрина\n",
    "\n",
    "Свернуть скрин: cntrl+A, cntrl+D\n",
    "\n",
    "Пролистать скрин: cntrl+A, Esc. Выход из режима пролистывания - Esc.\n",
    "\n",
    "Альтернатива: **tmux**"
   ]
  },
  {
   "cell_type": "markdown",
   "metadata": {},
   "source": [
    "#### scp\n",
    "\n",
    "scp нужна для копирования файлов с/на удалённый хост:\n",
    "\n",
    "`scp \"username@hostname:dir_to_file\" local_path_for_file`\n",
    "\n",
    "`scp local_file \"username@hostname:dir_to_file\"`\n",
    "\n",
    "#### ssh\n",
    "\n",
    "Зайти на удалённый хост: \n",
    "\n",
    "`ssh username@host`\n",
    "\n",
    "`ssh -N -f -L localhost:LOCAL_PORT:localhost:HOST_PORT username@hostname`\n",
    "\n",
    "\n",
    "#### less \n",
    "\n",
    "Просмотр содержимого файла\n",
    "\n",
    "\n",
    "#### xargs \n",
    "\n",
    "\"Разворачивание stdin в набор аргументов\" \n",
    "\n",
    "\n",
    "#### find\n",
    "\n",
    "Трудно поверить, но данная утилита помогает искать файлы. Ознакомьтесь с мануалом данной команды, он может пригодиться при выполнении самостоятельного задания\n",
    "\n",
    "##### cron\n",
    "\n",
    "Сервис для создания периодичных задач: каждую минуту/час/день. Для заведения \"задач\" - `crontab -e`. Примеры:\n",
    "\n",
    " ``` 23 */2 * * * echo \"Выполняется в 0:23, 2:23, 4:23 и т. д.\"\n",
    " 5 4 * * sun echo \"Выполняется в 4:05 в воскресенье\"\n",
    " 0 0 1 1 * echo \"С новым годом!\"\n",
    " 15 10,13 * * 1,4 echo \"Эта надпись выводится в понедельник и четверг в 10:15 и 13:15\"\n",
    " 0-59 * * * * echo \"Выполняется ежеминутно\"\n",
    " 0-59/2 * * * * echo \"Выполняется по четным минутам\"\n",
    " 1-59/2 * * * * echo \"Выполняется по нечетным минутам\"\n",
    " */5 * * * * echo \"Прошло пять минут\"```"
   ]
  },
  {
   "cell_type": "code",
   "execution_count": null,
   "metadata": {
    "collapsed": true
   },
   "outputs": [],
   "source": [
    "!mkdir another_dir\n",
    "!cd another_dit\n",
    "!for i in {0..50000}; do touch \"$i.txt\"; done; rm *.txt"
   ]
  },
  {
   "cell_type": "code",
   "execution_count": null,
   "metadata": {
    "collapsed": true
   },
   "outputs": [],
   "source": [
    "!ls -la | tail"
   ]
  },
  {
   "cell_type": "code",
   "execution_count": null,
   "metadata": {
    "collapsed": true
   },
   "outputs": [],
   "source": [
    "!find . -name \"*.txt\" | xargs rm "
   ]
  },
  {
   "cell_type": "markdown",
   "metadata": {},
   "source": [
    "<h3><a href=\"https://tproger.ru/news/how-to-exit-damned-vim/\">Из Vim не может выйти уже более миллиона человек: статистика от Stack Overflow (24 мая 2017)</a></h3>\n",
    "\n",
    "Недавно вопрос «Как выйти из редактора Vim?», опубликованный в 2012 году, достиг рекордного количества просмотров: 1 000 000. В честь этого события на Stack Overflow провели исследование и выложили статистику, которая иллюстрирует популярную проблему.\n",
    "\n",
    "<img src=\"https://lh3.googleusercontent.com/-GNcxZZi34HE/V5YcDwlB-aI/AAAAAAAAGF0/XcpCFtLRSgsW_J6DvUGHjWi8Ezj72PMdg/w530-h696-n/f506bdc3-8270-4e2f-9e83-9c36d8450136\">\n",
    "\n",
    "<img src=\"http://teaching.idallen.com/cst8207/15f/notes/data/vim_exit.jpg\">"
   ]
  },
  {
   "cell_type": "markdown",
   "metadata": {},
   "source": [
    "<h3><a href=\"https://tproger.ru/translations/dont-copy-paste-from-internet-to-terminal/\">Не вставляйте в консоль скопированный из Интернета код!</a></h3>"
   ]
  },
  {
   "cell_type": "markdown",
   "metadata": {},
   "source": [
    "# Полезные ссылки\n",
    "\n",
    "<a href=\"https://github.com/jlevy/the-art-of-command-line/blob/master/README-ru.md\">Искусство командной строки</a>\n",
    "\n",
    "<a href=\"http://datascienceatthecommandline.com/\">Data Science at the Command Line<a/>\n",
    "<img src=\"http://datascienceatthecommandline.com/assets/img/data-science-at-the-command-line.png\">"
   ]
  },
  {
   "cell_type": "code",
   "execution_count": null,
   "metadata": {
    "collapsed": true
   },
   "outputs": [],
   "source": []
  }
 ],
 "metadata": {
  "kernelspec": {
   "display_name": "Python 3",
   "language": "python",
   "name": "python3"
  },
  "language_info": {
   "codemirror_mode": {
    "name": "ipython",
    "version": 3
   },
   "file_extension": ".py",
   "mimetype": "text/x-python",
   "name": "python",
   "nbconvert_exporter": "python",
   "pygments_lexer": "ipython3",
   "version": "3.6.4"
  }
 },
 "nbformat": 4,
 "nbformat_minor": 2
}
